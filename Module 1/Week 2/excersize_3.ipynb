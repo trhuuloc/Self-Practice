{
 "cells": [
  {
   "cell_type": "code",
   "execution_count": null,
   "metadata": {},
   "outputs": [],
   "source": [
    "!gdown https://drive.google.com/uc?id=1IBScGdW2xlNsc9v5zSAya548kNgiOrko\n"
   ]
  },
  {
   "cell_type": "code",
   "execution_count": 31,
   "metadata": {},
   "outputs": [],
   "source": [
    "file_path = 'C:\\HocDaiHoc\\AIO\\Self-Practice\\Module 1\\Week 2\\P1_data.txt'\n",
    "\n",
    "def word_count(file_path):\n",
    "    print(file_path)\n",
    "    with open(file_path, 'r') as file:\n",
    "        content = file.read()\n",
    "    words = content.split()\n",
    "        \n",
    "    # Create a dictionary to count occurrences of each word\n",
    "    word_count_dict = {}\n",
    "    \n",
    "    for word in words:\n",
    "        # Normalize the word to lowercase\n",
    "        word = word.lower()\n",
    "        # Remove punctuation from the word (optional)\n",
    "        word = ''.join(char for char in word if char.isalnum())\n",
    "        # Count the word\n",
    "        if word in word_count_dict:\n",
    "            word_count_dict[word] += 1\n",
    "        else:\n",
    "            word_count_dict[word] = 1\n",
    "    \n",
    "    # Print the word count dictionary\n",
    "    sorted_word_count = sorted(word_count_dict.items())\n",
    "        \n",
    "    # Print the sorted word count\n",
    "    # for word, count in sorted_word_count:\n",
    "    #     print(f\"{word}: {count}\")\n",
    "    return word_count_dict['man']\n",
    "    "
   ]
  },
  {
   "cell_type": "code",
   "execution_count": 32,
   "metadata": {},
   "outputs": [
    {
     "name": "stdout",
     "output_type": "stream",
     "text": [
      "C:\\HocDaiHoc\\AIO\\Self-Practice\\Module 1\\Week 2\\P1_data.txt\n"
     ]
    },
    {
     "data": {
      "text/plain": [
       "6"
      ]
     },
     "execution_count": 32,
     "metadata": {},
     "output_type": "execute_result"
    }
   ],
   "source": [
    "word_count(file_path)"
   ]
  }
 ],
 "metadata": {
  "kernelspec": {
   "display_name": "base",
   "language": "python",
   "name": "python3"
  },
  "language_info": {
   "codemirror_mode": {
    "name": "ipython",
    "version": 3
   },
   "file_extension": ".py",
   "mimetype": "text/x-python",
   "name": "python",
   "nbconvert_exporter": "python",
   "pygments_lexer": "ipython3",
   "version": "3.11.5"
  }
 },
 "nbformat": 4,
 "nbformat_minor": 2
}
